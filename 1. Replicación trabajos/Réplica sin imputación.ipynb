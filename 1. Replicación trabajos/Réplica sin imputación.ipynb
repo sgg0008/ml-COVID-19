{
 "cells": [
  {
   "cell_type": "code",
   "execution_count": 1,
   "metadata": {},
   "outputs": [],
   "source": [
    "# Tratamiento de datos\n",
    "# ==============================================================================\n",
    "import pandas as pd\n",
    "import numpy as np\n",
    "\n",
    "# Gráficos\n",
    "# ==============================================================================\n",
    "import seaborn as sns\n",
    "\n",
    "# Preprocesado y modelado\n",
    "# ==============================================================================\n",
    "from sklearn.model_selection import StratifiedKFold\n",
    "from sklearn.linear_model import LogisticRegression\n",
    "from sklearn.model_selection import cross_val_predict\n",
    "from sklearn import metrics\n",
    "from sklearn.metrics import accuracy_score"
   ]
  },
  {
   "cell_type": "markdown",
   "metadata": {},
   "source": [
    "Importo en un dataframe la cohorte de datos"
   ]
  },
  {
   "cell_type": "code",
   "execution_count": 2,
   "metadata": {
    "scrolled": true
   },
   "outputs": [
    {
     "data": {
      "text/html": [
       "<div>\n",
       "<style scoped>\n",
       "    .dataframe tbody tr th:only-of-type {\n",
       "        vertical-align: middle;\n",
       "    }\n",
       "\n",
       "    .dataframe tbody tr th {\n",
       "        vertical-align: top;\n",
       "    }\n",
       "\n",
       "    .dataframe thead th {\n",
       "        text-align: right;\n",
       "    }\n",
       "</style>\n",
       "<table border=\"1\" class=\"dataframe\">\n",
       "  <thead>\n",
       "    <tr style=\"text-align: right;\">\n",
       "      <th></th>\n",
       "      <th>IDInm</th>\n",
       "      <th>NH</th>\n",
       "      <th>AntiN</th>\n",
       "      <th>AntiS</th>\n",
       "      <th>AntiM</th>\n",
       "      <th>age</th>\n",
       "      <th>gender</th>\n",
       "      <th>score</th>\n",
       "      <th>Line Timepoint</th>\n",
       "      <th>Timepoint</th>\n",
       "      <th>...</th>\n",
       "      <th>TH27p28n</th>\n",
       "      <th>TH27n28n</th>\n",
       "      <th>CTLDRn38n</th>\n",
       "      <th>CTLDRp38n</th>\n",
       "      <th>CTLDRn38p</th>\n",
       "      <th>CTLDRp38p</th>\n",
       "      <th>THDRn38n</th>\n",
       "      <th>THDRp38n</th>\n",
       "      <th>THDRn38p</th>\n",
       "      <th>THDRp38</th>\n",
       "    </tr>\n",
       "    <tr>\n",
       "      <th>idMuestra</th>\n",
       "      <th></th>\n",
       "      <th></th>\n",
       "      <th></th>\n",
       "      <th></th>\n",
       "      <th></th>\n",
       "      <th></th>\n",
       "      <th></th>\n",
       "      <th></th>\n",
       "      <th></th>\n",
       "      <th></th>\n",
       "      <th></th>\n",
       "      <th></th>\n",
       "      <th></th>\n",
       "      <th></th>\n",
       "      <th></th>\n",
       "      <th></th>\n",
       "      <th></th>\n",
       "      <th></th>\n",
       "      <th></th>\n",
       "      <th></th>\n",
       "      <th></th>\n",
       "    </tr>\n",
       "  </thead>\n",
       "  <tbody>\n",
       "    <tr>\n",
       "      <th>0</th>\n",
       "      <td>1407962</td>\n",
       "      <td>3084327</td>\n",
       "      <td>NaN</td>\n",
       "      <td>NaN</td>\n",
       "      <td>NaN</td>\n",
       "      <td>88</td>\n",
       "      <td>1</td>\n",
       "      <td>NaN</td>\n",
       "      <td>NaN</td>\n",
       "      <td>0.0</td>\n",
       "      <td>...</td>\n",
       "      <td>0.007514</td>\n",
       "      <td>0.037952</td>\n",
       "      <td>0.075808</td>\n",
       "      <td>0.064660</td>\n",
       "      <td>0.638796</td>\n",
       "      <td>0.220736</td>\n",
       "      <td>0.046994</td>\n",
       "      <td>0.024834</td>\n",
       "      <td>0.879776</td>\n",
       "      <td>0.048395</td>\n",
       "    </tr>\n",
       "    <tr>\n",
       "      <th>1</th>\n",
       "      <td>1407963</td>\n",
       "      <td>587116</td>\n",
       "      <td>NaN</td>\n",
       "      <td>NaN</td>\n",
       "      <td>NaN</td>\n",
       "      <td>46</td>\n",
       "      <td>0</td>\n",
       "      <td>NaN</td>\n",
       "      <td>NaN</td>\n",
       "      <td>0.0</td>\n",
       "      <td>...</td>\n",
       "      <td>0.001384</td>\n",
       "      <td>0.000951</td>\n",
       "      <td>0.057471</td>\n",
       "      <td>0.014049</td>\n",
       "      <td>0.826309</td>\n",
       "      <td>0.102171</td>\n",
       "      <td>0.035378</td>\n",
       "      <td>0.003979</td>\n",
       "      <td>0.938587</td>\n",
       "      <td>0.022057</td>\n",
       "    </tr>\n",
       "    <tr>\n",
       "      <th>2</th>\n",
       "      <td>1408025</td>\n",
       "      <td>764584</td>\n",
       "      <td>NaN</td>\n",
       "      <td>NaN</td>\n",
       "      <td>NaN</td>\n",
       "      <td>82</td>\n",
       "      <td>0</td>\n",
       "      <td>3.0</td>\n",
       "      <td>1.0</td>\n",
       "      <td>1.0</td>\n",
       "      <td>...</td>\n",
       "      <td>0.027458</td>\n",
       "      <td>0.085781</td>\n",
       "      <td>0.232804</td>\n",
       "      <td>0.037037</td>\n",
       "      <td>0.221164</td>\n",
       "      <td>0.508995</td>\n",
       "      <td>0.255428</td>\n",
       "      <td>0.018838</td>\n",
       "      <td>0.628991</td>\n",
       "      <td>0.096743</td>\n",
       "    </tr>\n",
       "  </tbody>\n",
       "</table>\n",
       "<p>3 rows × 97 columns</p>\n",
       "</div>"
      ],
      "text/plain": [
       "             IDInm       NH  AntiN  AntiS  AntiM  age  gender  score  \\\n",
       "idMuestra                                                              \n",
       "0          1407962  3084327    NaN    NaN    NaN   88       1    NaN   \n",
       "1          1407963   587116    NaN    NaN    NaN   46       0    NaN   \n",
       "2          1408025   764584    NaN    NaN    NaN   82       0    3.0   \n",
       "\n",
       "           Line Timepoint  Timepoint  ...  TH27p28n  TH27n28n  CTLDRn38n  \\\n",
       "idMuestra                             ...                                  \n",
       "0                     NaN        0.0  ...  0.007514  0.037952   0.075808   \n",
       "1                     NaN        0.0  ...  0.001384  0.000951   0.057471   \n",
       "2                     1.0        1.0  ...  0.027458  0.085781   0.232804   \n",
       "\n",
       "           CTLDRp38n  CTLDRn38p  CTLDRp38p  THDRn38n  THDRp38n  THDRn38p  \\\n",
       "idMuestra                                                                  \n",
       "0           0.064660   0.638796   0.220736  0.046994  0.024834  0.879776   \n",
       "1           0.014049   0.826309   0.102171  0.035378  0.003979  0.938587   \n",
       "2           0.037037   0.221164   0.508995  0.255428  0.018838  0.628991   \n",
       "\n",
       "            THDRp38  \n",
       "idMuestra            \n",
       "0          0.048395  \n",
       "1          0.022057  \n",
       "2          0.096743  \n",
       "\n",
       "[3 rows x 97 columns]"
      ]
     },
     "execution_count": 2,
     "metadata": {},
     "output_type": "execute_result"
    }
   ],
   "source": [
    "df_data = pd.read_csv('./data/data.csv', sep = \";\")\n",
    "df_data.index.name = 'idMuestra'\n",
    "df_data.head(3)"
   ]
  },
  {
   "cell_type": "markdown",
   "metadata": {},
   "source": [
    "Escojo las variables que quiero utilizar y las meto en otro dataframe"
   ]
  },
  {
   "cell_type": "code",
   "execution_count": 3,
   "metadata": {
    "scrolled": true
   },
   "outputs": [
    {
     "data": {
      "text/html": [
       "<div>\n",
       "<style scoped>\n",
       "    .dataframe tbody tr th:only-of-type {\n",
       "        vertical-align: middle;\n",
       "    }\n",
       "\n",
       "    .dataframe tbody tr th {\n",
       "        vertical-align: top;\n",
       "    }\n",
       "\n",
       "    .dataframe thead th {\n",
       "        text-align: right;\n",
       "    }\n",
       "</style>\n",
       "<table border=\"1\" class=\"dataframe\">\n",
       "  <thead>\n",
       "    <tr style=\"text-align: right;\">\n",
       "      <th></th>\n",
       "      <th>score</th>\n",
       "      <th>age</th>\n",
       "      <th>ferritina</th>\n",
       "      <th>DimD</th>\n",
       "      <th>LINF ABS</th>\n",
       "      <th>C4</th>\n",
       "      <th>MoNOclasicos</th>\n",
       "      <th>TH27n28n</th>\n",
       "    </tr>\n",
       "    <tr>\n",
       "      <th>idMuestra</th>\n",
       "      <th></th>\n",
       "      <th></th>\n",
       "      <th></th>\n",
       "      <th></th>\n",
       "      <th></th>\n",
       "      <th></th>\n",
       "      <th></th>\n",
       "      <th></th>\n",
       "    </tr>\n",
       "  </thead>\n",
       "  <tbody>\n",
       "    <tr>\n",
       "      <th>0</th>\n",
       "      <td>NaN</td>\n",
       "      <td>88</td>\n",
       "      <td>NaN</td>\n",
       "      <td>NaN</td>\n",
       "      <td>1000.0</td>\n",
       "      <td>45.68</td>\n",
       "      <td>0.098390</td>\n",
       "      <td>0.037952</td>\n",
       "    </tr>\n",
       "    <tr>\n",
       "      <th>1</th>\n",
       "      <td>NaN</td>\n",
       "      <td>46</td>\n",
       "      <td>NaN</td>\n",
       "      <td>14875.0</td>\n",
       "      <td>1791.0</td>\n",
       "      <td>36.57</td>\n",
       "      <td>0.090516</td>\n",
       "      <td>0.000951</td>\n",
       "    </tr>\n",
       "    <tr>\n",
       "      <th>2</th>\n",
       "      <td>3.0</td>\n",
       "      <td>82</td>\n",
       "      <td>328.0</td>\n",
       "      <td>276.0</td>\n",
       "      <td>1611.0</td>\n",
       "      <td>52.16</td>\n",
       "      <td>0.020647</td>\n",
       "      <td>0.085781</td>\n",
       "    </tr>\n",
       "  </tbody>\n",
       "</table>\n",
       "</div>"
      ],
      "text/plain": [
       "           score  age  ferritina     DimD  LINF ABS     C4  MoNOclasicos  \\\n",
       "idMuestra                                                                  \n",
       "0            NaN   88        NaN      NaN    1000.0  45.68      0.098390   \n",
       "1            NaN   46        NaN  14875.0    1791.0  36.57      0.090516   \n",
       "2            3.0   82      328.0    276.0    1611.0  52.16      0.020647   \n",
       "\n",
       "           TH27n28n  \n",
       "idMuestra            \n",
       "0          0.037952  \n",
       "1          0.000951  \n",
       "2          0.085781  "
      ]
     },
     "execution_count": 3,
     "metadata": {},
     "output_type": "execute_result"
    }
   ],
   "source": [
    "df_datos = df_data[['score','age','ferritina','DimD','LINF ABS','C4','MoNOclasicos','TH27n28n']]\n",
    "\n",
    "df_datos.head(3)"
   ]
  },
  {
   "cell_type": "markdown",
   "metadata": {},
   "source": [
    "Compruebo el número de nulos (NaN) de cada variable"
   ]
  },
  {
   "cell_type": "code",
   "execution_count": 4,
   "metadata": {},
   "outputs": [
    {
     "data": {
      "text/plain": [
       "score           261\n",
       "age               0\n",
       "ferritina       155\n",
       "DimD            147\n",
       "LINF ABS          4\n",
       "C4               63\n",
       "MoNOclasicos    102\n",
       "TH27n28n         70\n",
       "dtype: int64"
      ]
     },
     "execution_count": 4,
     "metadata": {},
     "output_type": "execute_result"
    }
   ],
   "source": [
    "df_datos.isnull().sum()"
   ]
  },
  {
   "cell_type": "code",
   "execution_count": 5,
   "metadata": {},
   "outputs": [
    {
     "data": {
      "text/plain": [
       "<AxesSubplot:ylabel='idMuestra'>"
      ]
     },
     "execution_count": 5,
     "metadata": {},
     "output_type": "execute_result"
    },
    {
     "data": {
      "image/png": "[encoded data removed]",
      "text/plain": [
       "<Figure size 432x288 with 1 Axes>"
      ]
     },
     "metadata": {
      "needs_background": "light"
     },
     "output_type": "display_data"
    }
   ],
   "source": [
    "# Identificamos los valores NaN visualmente\n",
    "sns.heatmap(df_datos.isnull(), cbar=False)"
   ]
  },
  {
   "cell_type": "markdown",
   "metadata": {},
   "source": [
    "Creo otro dataframe sin valores nulos (NaN)"
   ]
  },
  {
   "cell_type": "code",
   "execution_count": 6,
   "metadata": {},
   "outputs": [
    {
     "data": {
      "text/html": [
       "<div>\n",
       "<style scoped>\n",
       "    .dataframe tbody tr th:only-of-type {\n",
       "        vertical-align: middle;\n",
       "    }\n",
       "\n",
       "    .dataframe tbody tr th {\n",
       "        vertical-align: top;\n",
       "    }\n",
       "\n",
       "    .dataframe thead th {\n",
       "        text-align: right;\n",
       "    }\n",
       "</style>\n",
       "<table border=\"1\" class=\"dataframe\">\n",
       "  <thead>\n",
       "    <tr style=\"text-align: right;\">\n",
       "      <th></th>\n",
       "      <th>score</th>\n",
       "      <th>age</th>\n",
       "      <th>ferritina</th>\n",
       "      <th>DimD</th>\n",
       "      <th>LINF ABS</th>\n",
       "      <th>C4</th>\n",
       "      <th>MoNOclasicos</th>\n",
       "      <th>TH27n28n</th>\n",
       "    </tr>\n",
       "    <tr>\n",
       "      <th>idMuestra</th>\n",
       "      <th></th>\n",
       "      <th></th>\n",
       "      <th></th>\n",
       "      <th></th>\n",
       "      <th></th>\n",
       "      <th></th>\n",
       "      <th></th>\n",
       "      <th></th>\n",
       "    </tr>\n",
       "  </thead>\n",
       "  <tbody>\n",
       "    <tr>\n",
       "      <th>2</th>\n",
       "      <td>3.0</td>\n",
       "      <td>82</td>\n",
       "      <td>328.0</td>\n",
       "      <td>276.0</td>\n",
       "      <td>1611.0</td>\n",
       "      <td>52.16</td>\n",
       "      <td>0.020647</td>\n",
       "      <td>0.085781</td>\n",
       "    </tr>\n",
       "    <tr>\n",
       "      <th>3</th>\n",
       "      <td>4.0</td>\n",
       "      <td>72</td>\n",
       "      <td>833.0</td>\n",
       "      <td>4654.0</td>\n",
       "      <td>687.0</td>\n",
       "      <td>15.56</td>\n",
       "      <td>0.046393</td>\n",
       "      <td>0.134451</td>\n",
       "    </tr>\n",
       "    <tr>\n",
       "      <th>4</th>\n",
       "      <td>1.0</td>\n",
       "      <td>51</td>\n",
       "      <td>1261.0</td>\n",
       "      <td>511.0</td>\n",
       "      <td>803.0</td>\n",
       "      <td>42.02</td>\n",
       "      <td>0.039211</td>\n",
       "      <td>0.001869</td>\n",
       "    </tr>\n",
       "    <tr>\n",
       "      <th>5</th>\n",
       "      <td>1.0</td>\n",
       "      <td>63</td>\n",
       "      <td>704.0</td>\n",
       "      <td>392.0</td>\n",
       "      <td>1131.0</td>\n",
       "      <td>39.76</td>\n",
       "      <td>0.039648</td>\n",
       "      <td>0.016114</td>\n",
       "    </tr>\n",
       "    <tr>\n",
       "      <th>6</th>\n",
       "      <td>1.0</td>\n",
       "      <td>54</td>\n",
       "      <td>452.0</td>\n",
       "      <td>790.0</td>\n",
       "      <td>1652.0</td>\n",
       "      <td>31.94</td>\n",
       "      <td>0.114563</td>\n",
       "      <td>0.008209</td>\n",
       "    </tr>\n",
       "    <tr>\n",
       "      <th>...</th>\n",
       "      <td>...</td>\n",
       "      <td>...</td>\n",
       "      <td>...</td>\n",
       "      <td>...</td>\n",
       "      <td>...</td>\n",
       "      <td>...</td>\n",
       "      <td>...</td>\n",
       "      <td>...</td>\n",
       "    </tr>\n",
       "    <tr>\n",
       "      <th>302</th>\n",
       "      <td>3.0</td>\n",
       "      <td>72</td>\n",
       "      <td>798.0</td>\n",
       "      <td>7508.0</td>\n",
       "      <td>1029.0</td>\n",
       "      <td>27.96</td>\n",
       "      <td>0.005609</td>\n",
       "      <td>0.115530</td>\n",
       "    </tr>\n",
       "    <tr>\n",
       "      <th>309</th>\n",
       "      <td>4.0</td>\n",
       "      <td>64</td>\n",
       "      <td>1154.0</td>\n",
       "      <td>724.0</td>\n",
       "      <td>795.0</td>\n",
       "      <td>53.90</td>\n",
       "      <td>0.005397</td>\n",
       "      <td>0.273622</td>\n",
       "    </tr>\n",
       "    <tr>\n",
       "      <th>312</th>\n",
       "      <td>5.0</td>\n",
       "      <td>76</td>\n",
       "      <td>836.0</td>\n",
       "      <td>351.0</td>\n",
       "      <td>639.0</td>\n",
       "      <td>52.94</td>\n",
       "      <td>0.018221</td>\n",
       "      <td>0.007921</td>\n",
       "    </tr>\n",
       "    <tr>\n",
       "      <th>313</th>\n",
       "      <td>1.0</td>\n",
       "      <td>82</td>\n",
       "      <td>160.0</td>\n",
       "      <td>278.0</td>\n",
       "      <td>595.0</td>\n",
       "      <td>25.52</td>\n",
       "      <td>0.004662</td>\n",
       "      <td>0.132428</td>\n",
       "    </tr>\n",
       "    <tr>\n",
       "      <th>314</th>\n",
       "      <td>1.0</td>\n",
       "      <td>58</td>\n",
       "      <td>202.0</td>\n",
       "      <td>204.0</td>\n",
       "      <td>665.0</td>\n",
       "      <td>51.52</td>\n",
       "      <td>0.014894</td>\n",
       "      <td>0.018621</td>\n",
       "    </tr>\n",
       "  </tbody>\n",
       "</table>\n",
       "<p>117 rows × 8 columns</p>\n",
       "</div>"
      ],
      "text/plain": [
       "           score  age  ferritina    DimD  LINF ABS     C4  MoNOclasicos  \\\n",
       "idMuestra                                                                 \n",
       "2            3.0   82      328.0   276.0    1611.0  52.16      0.020647   \n",
       "3            4.0   72      833.0  4654.0     687.0  15.56      0.046393   \n",
       "4            1.0   51     1261.0   511.0     803.0  42.02      0.039211   \n",
       "5            1.0   63      704.0   392.0    1131.0  39.76      0.039648   \n",
       "6            1.0   54      452.0   790.0    1652.0  31.94      0.114563   \n",
       "...          ...  ...        ...     ...       ...    ...           ...   \n",
       "302          3.0   72      798.0  7508.0    1029.0  27.96      0.005609   \n",
       "309          4.0   64     1154.0   724.0     795.0  53.90      0.005397   \n",
       "312          5.0   76      836.0   351.0     639.0  52.94      0.018221   \n",
       "313          1.0   82      160.0   278.0     595.0  25.52      0.004662   \n",
       "314          1.0   58      202.0   204.0     665.0  51.52      0.014894   \n",
       "\n",
       "           TH27n28n  \n",
       "idMuestra            \n",
       "2          0.085781  \n",
       "3          0.134451  \n",
       "4          0.001869  \n",
       "5          0.016114  \n",
       "6          0.008209  \n",
       "...             ...  \n",
       "302        0.115530  \n",
       "309        0.273622  \n",
       "312        0.007921  \n",
       "313        0.132428  \n",
       "314        0.018621  \n",
       "\n",
       "[117 rows x 8 columns]"
      ]
     },
     "execution_count": 6,
     "metadata": {},
     "output_type": "execute_result"
    }
   ],
   "source": [
    "df_sinNaN = df_datos.copy()\n",
    "for i in range(df_sinNaN.shape[1]):\n",
    "    df_sinNaN = df_sinNaN[~df_sinNaN[df_sinNaN.columns[i]].isnull()]\n",
    "df_sinNaN.head(200)"
   ]
  },
  {
   "cell_type": "markdown",
   "metadata": {},
   "source": [
    "Vamos a ver si nos quedó algún valor nulo:"
   ]
  },
  {
   "cell_type": "code",
   "execution_count": 7,
   "metadata": {},
   "outputs": [
    {
     "data": {
      "text/plain": [
       "score           0\n",
       "age             0\n",
       "ferritina       0\n",
       "DimD            0\n",
       "LINF ABS        0\n",
       "C4              0\n",
       "MoNOclasicos    0\n",
       "TH27n28n        0\n",
       "dtype: int64"
      ]
     },
     "execution_count": 7,
     "metadata": {},
     "output_type": "execute_result"
    }
   ],
   "source": [
    "df_sinNaN.isnull().sum()"
   ]
  },
  {
   "cell_type": "markdown",
   "metadata": {},
   "source": [
    "Convierto la multivariable score en 2 variables: 0 Leve y 1 Moderado/Severo"
   ]
  },
  {
   "cell_type": "code",
   "execution_count": 8,
   "metadata": {
    "scrolled": true
   },
   "outputs": [
    {
     "name": "stdout",
     "output_type": "stream",
     "text": [
      "Número de observaciones por clase\n",
      "0    90\n",
      "1    27\n",
      "Name: score, dtype: int64\n",
      "\n",
      "Porcentaje de observaciones por clase\n",
      "0    76.923077\n",
      "1    23.076923\n",
      "Name: score, dtype: float64\n"
     ]
    }
   ],
   "source": [
    "df_sinNaN['score'] = np.where(df_sinNaN['score'] > 2, 1, 0)\n",
    "\n",
    "print(\"Número de observaciones por clase\")\n",
    "print(df_sinNaN['score'].value_counts())\n",
    "print(\"\")\n",
    "\n",
    "print(\"Porcentaje de observaciones por clase\")\n",
    "print(100 * df_sinNaN['score'].value_counts(normalize=True))"
   ]
  },
  {
   "cell_type": "markdown",
   "metadata": {},
   "source": [
    "Creo los dataframes de entrenamiento (X) y de test (y)"
   ]
  },
  {
   "cell_type": "code",
   "execution_count": 9,
   "metadata": {},
   "outputs": [],
   "source": [
    "X = df_sinNaN.drop(columns = 'score').to_numpy()\n",
    "y = df_sinNaN['score'].to_numpy()"
   ]
  },
  {
   "cell_type": "markdown",
   "metadata": {},
   "source": [
    "Validación cruzada con StratifiedKFold"
   ]
  },
  {
   "cell_type": "code",
   "execution_count": 10,
   "metadata": {},
   "outputs": [],
   "source": [
    "def evalua(X,y,clasificador,repeticiones,folds):\n",
    "    '''\n",
    "    Función de ejemplo que evalua accuracy_score siguiendo un esquema\n",
    "    de repeticiones y número de folds indicado.\n",
    "    \n",
    "    Podría modificarse para guardar predicciones o para evaluar otras medidas\n",
    "    \n",
    "    '''\n",
    "    \n",
    "    # se hacen 'repeticiones' validaciones cruzadas\n",
    "    accs = []\n",
    "    \n",
    "    # se hace el proceso 'repeticiones' veces\n",
    "    for i in range(repeticiones):\n",
    "        \n",
    "        # se usa StratifiedKFold varias veces, cada vez con una semilla distinta\n",
    "        skf = StratifiedKFold(n_splits=folds,random_state=i, shuffle = True)\n",
    "        \n",
    "        \n",
    "        for train_index, test_index in skf.split(X, y):\n",
    "            \n",
    "            # se crea multiples versiones de los conjuntos de entrenamiento y test\n",
    "            X_train, X_test = X[train_index], X[test_index]\n",
    "            y_train, y_test = y[train_index], y[test_index]\n",
    "            \n",
    "            # entrenamos y evaluamos el clasificador\n",
    "            clasificador.fit(X_train,y_train)\n",
    "            y_pred = clasificador.predict(X_test)\n",
    "            ### podría guardar las predicciones para más adelante si quisiera\n",
    "            \n",
    "            acc = accuracy_score(y_test, y_pred)\n",
    "            accs.append(acc)\n",
    "            \n",
    "    # devolvemos la media de las repeticiones y folds\n",
    "    return np.array(accs).mean() * 100"
   ]
  },
  {
   "cell_type": "code",
   "execution_count": 11,
   "metadata": {},
   "outputs": [],
   "source": [
    "modeloLR = LogisticRegression(max_iter = 500)"
   ]
  },
  {
   "cell_type": "code",
   "execution_count": 12,
   "metadata": {},
   "outputs": [
    {
     "name": "stdout",
     "output_type": "stream",
     "text": [
      "75.21 %\n",
      "76.3 %\n"
     ]
    }
   ],
   "source": [
    "print(round(evalua(X, y, modeloLR, 5, 2), 2), '%')\n",
    "print(round(evalua(X, y, modeloLR, 10, 10), 2), '%')"
   ]
  },
  {
   "cell_type": "code",
   "execution_count": 13,
   "metadata": {},
   "outputs": [
    {
     "data": {
      "text/plain": [
       "LogisticRegression(max_iter=500)"
      ]
     },
     "execution_count": 13,
     "metadata": {},
     "output_type": "execute_result"
    }
   ],
   "source": [
    "modeloLR.fit(X,y)"
   ]
  },
  {
   "cell_type": "markdown",
   "metadata": {},
   "source": [
    "Vamos a obtener el nombre de las columnas para que se vean en la tabla de coeficientes"
   ]
  },
  {
   "cell_type": "code",
   "execution_count": 14,
   "metadata": {},
   "outputs": [],
   "source": [
    "att_names = []\n",
    "for i in range(df_sinNaN.shape[1]):\n",
    "    att_names.append(df_sinNaN.columns[i])\n",
    "att_names.remove('score')"
   ]
  },
  {
   "cell_type": "markdown",
   "metadata": {},
   "source": [
    "Sacamos la tabla de coeficientes del Logistic Regression:"
   ]
  },
  {
   "cell_type": "code",
   "execution_count": 15,
   "metadata": {},
   "outputs": [
    {
     "data": {
      "text/html": [
       "<div>\n",
       "<style scoped>\n",
       "    .dataframe tbody tr th:only-of-type {\n",
       "        vertical-align: middle;\n",
       "    }\n",
       "\n",
       "    .dataframe tbody tr th {\n",
       "        vertical-align: top;\n",
       "    }\n",
       "\n",
       "    .dataframe thead th {\n",
       "        text-align: right;\n",
       "    }\n",
       "</style>\n",
       "<table border=\"1\" class=\"dataframe\">\n",
       "  <thead>\n",
       "    <tr style=\"text-align: right;\">\n",
       "      <th></th>\n",
       "      <th>Coeficientes</th>\n",
       "    </tr>\n",
       "  </thead>\n",
       "  <tbody>\n",
       "    <tr>\n",
       "      <th>MoNOclasicos</th>\n",
       "      <td>0.360114</td>\n",
       "    </tr>\n",
       "    <tr>\n",
       "      <th>age</th>\n",
       "      <td>0.054551</td>\n",
       "    </tr>\n",
       "    <tr>\n",
       "      <th>C4</th>\n",
       "      <td>0.044540</td>\n",
       "    </tr>\n",
       "    <tr>\n",
       "      <th>ferritina</th>\n",
       "      <td>0.000426</td>\n",
       "    </tr>\n",
       "    <tr>\n",
       "      <th>DimD</th>\n",
       "      <td>0.000382</td>\n",
       "    </tr>\n",
       "    <tr>\n",
       "      <th>LINF ABS</th>\n",
       "      <td>-0.000546</td>\n",
       "    </tr>\n",
       "    <tr>\n",
       "      <th>TH27n28n</th>\n",
       "      <td>-0.755528</td>\n",
       "    </tr>\n",
       "  </tbody>\n",
       "</table>\n",
       "</div>"
      ],
      "text/plain": [
       "              Coeficientes\n",
       "MoNOclasicos      0.360114\n",
       "age               0.054551\n",
       "C4                0.044540\n",
       "ferritina         0.000426\n",
       "DimD              0.000382\n",
       "LINF ABS         -0.000546\n",
       "TH27n28n         -0.755528"
      ]
     },
     "execution_count": 15,
     "metadata": {},
     "output_type": "execute_result"
    }
   ],
   "source": [
    "log_odds = modeloLR.coef_[0]\n",
    "\n",
    "df = pd.DataFrame(log_odds, \n",
    "             att_names, \n",
    "             columns=['Coeficientes'])\n",
    "\n",
    "df.sort_values(by='Coeficientes', ascending=False)"
   ]
  },
  {
   "cell_type": "markdown",
   "metadata": {},
   "source": [
    "Hallamos el coeficiente de interceptación:"
   ]
  },
  {
   "cell_type": "code",
   "execution_count": 16,
   "metadata": {},
   "outputs": [
    {
     "name": "stdout",
     "output_type": "stream",
     "text": [
      "Intercept (β0): [-6.56141125]\n"
     ]
    }
   ],
   "source": [
    "beta0 = modeloLR.intercept_\n",
    "print(\"Intercept (β0):\", beta0)"
   ]
  },
  {
   "cell_type": "markdown",
   "metadata": {},
   "source": [
    "Al ser negativo, la probabilidad de obtener un resultado es menor que 0,5. Con la siguiente fórmula, calculamos la probabilidad cuando el score es 0:  \n",
    "$$P = {e^{β_0} \\over (1 + e^{β_0})}$$"
   ]
  },
  {
   "cell_type": "code",
   "execution_count": 17,
   "metadata": {},
   "outputs": [
    {
     "data": {
      "text/plain": [
       "0.001411892686515634"
      ]
     },
     "execution_count": 17,
     "metadata": {},
     "output_type": "execute_result"
    }
   ],
   "source": [
    "p = np.exp(beta0) / (1 + np.exp(beta0))\n",
    "p[0]"
   ]
  }
 ],
 "metadata": {
  "kernelspec": {
   "display_name": "Python 3 (ipykernel)",
   "language": "python",
   "name": "python3"
  },
  "language_info": {
   "codemirror_mode": {
    "name": "ipython",
    "version": 3
   },
   "file_extension": ".py",
   "mimetype": "text/x-python",
   "name": "python",
   "nbconvert_exporter": "python",
   "pygments_lexer": "ipython3",
   "version": "3.9.7"
  }
 },
 "nbformat": 4,
 "nbformat_minor": 4
}
