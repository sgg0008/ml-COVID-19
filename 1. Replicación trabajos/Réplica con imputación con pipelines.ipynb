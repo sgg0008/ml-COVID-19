{
 "cells": [
  {
   "cell_type": "code",
   "execution_count": 1,
   "metadata": {},
   "outputs": [],
   "source": [
    "# Tratamiento de datos\n",
    "# ==============================================================================\n",
    "import pandas as pd\n",
    "import numpy as np\n",
    "\n",
    "# Gráficos\n",
    "# ==============================================================================\n",
    "import seaborn as sns\n",
    "\n",
    "# Preprocesado y modelado\n",
    "# ==============================================================================\n",
    "from sklearn.model_selection import StratifiedKFold\n",
    "from sklearn.linear_model import LogisticRegression\n",
    "from sklearn.pipeline import Pipeline\n",
    "from sklearn.impute import SimpleImputer\n",
    "from sklearn.impute import KNNImputer\n",
    "from sklearn.model_selection import cross_val_predict\n",
    "from sklearn import metrics\n",
    "from sklearn.metrics import accuracy_score"
   ]
  },
  {
   "cell_type": "markdown",
   "metadata": {},
   "source": [
    "Importo en un dataframe la cohorte de datos"
   ]
  },
  {
   "cell_type": "code",
   "execution_count": 2,
   "metadata": {
    "scrolled": true
   },
   "outputs": [
    {
     "data": {
      "text/html": [
       "<div>\n",
       "<style scoped>\n",
       "    .dataframe tbody tr th:only-of-type {\n",
       "        vertical-align: middle;\n",
       "    }\n",
       "\n",
       "    .dataframe tbody tr th {\n",
       "        vertical-align: top;\n",
       "    }\n",
       "\n",
       "    .dataframe thead th {\n",
       "        text-align: right;\n",
       "    }\n",
       "</style>\n",
       "<table border=\"1\" class=\"dataframe\">\n",
       "  <thead>\n",
       "    <tr style=\"text-align: right;\">\n",
       "      <th></th>\n",
       "      <th>IDInm</th>\n",
       "      <th>NH</th>\n",
       "      <th>AntiN</th>\n",
       "      <th>AntiS</th>\n",
       "      <th>AntiM</th>\n",
       "      <th>age</th>\n",
       "      <th>gender</th>\n",
       "      <th>score</th>\n",
       "      <th>Line Timepoint</th>\n",
       "      <th>Timepoint</th>\n",
       "      <th>...</th>\n",
       "      <th>TH27p28n</th>\n",
       "      <th>TH27n28n</th>\n",
       "      <th>CTLDRn38n</th>\n",
       "      <th>CTLDRp38n</th>\n",
       "      <th>CTLDRn38p</th>\n",
       "      <th>CTLDRp38p</th>\n",
       "      <th>THDRn38n</th>\n",
       "      <th>THDRp38n</th>\n",
       "      <th>THDRn38p</th>\n",
       "      <th>THDRp38</th>\n",
       "    </tr>\n",
       "    <tr>\n",
       "      <th>idMuestra</th>\n",
       "      <th></th>\n",
       "      <th></th>\n",
       "      <th></th>\n",
       "      <th></th>\n",
       "      <th></th>\n",
       "      <th></th>\n",
       "      <th></th>\n",
       "      <th></th>\n",
       "      <th></th>\n",
       "      <th></th>\n",
       "      <th></th>\n",
       "      <th></th>\n",
       "      <th></th>\n",
       "      <th></th>\n",
       "      <th></th>\n",
       "      <th></th>\n",
       "      <th></th>\n",
       "      <th></th>\n",
       "      <th></th>\n",
       "      <th></th>\n",
       "      <th></th>\n",
       "    </tr>\n",
       "  </thead>\n",
       "  <tbody>\n",
       "    <tr>\n",
       "      <th>0</th>\n",
       "      <td>1407962</td>\n",
       "      <td>3084327</td>\n",
       "      <td>NaN</td>\n",
       "      <td>NaN</td>\n",
       "      <td>NaN</td>\n",
       "      <td>88</td>\n",
       "      <td>1</td>\n",
       "      <td>NaN</td>\n",
       "      <td>NaN</td>\n",
       "      <td>0.0</td>\n",
       "      <td>...</td>\n",
       "      <td>0.007514</td>\n",
       "      <td>0.037952</td>\n",
       "      <td>0.075808</td>\n",
       "      <td>0.064660</td>\n",
       "      <td>0.638796</td>\n",
       "      <td>0.220736</td>\n",
       "      <td>0.046994</td>\n",
       "      <td>0.024834</td>\n",
       "      <td>0.879776</td>\n",
       "      <td>0.048395</td>\n",
       "    </tr>\n",
       "    <tr>\n",
       "      <th>1</th>\n",
       "      <td>1407963</td>\n",
       "      <td>587116</td>\n",
       "      <td>NaN</td>\n",
       "      <td>NaN</td>\n",
       "      <td>NaN</td>\n",
       "      <td>46</td>\n",
       "      <td>0</td>\n",
       "      <td>NaN</td>\n",
       "      <td>NaN</td>\n",
       "      <td>0.0</td>\n",
       "      <td>...</td>\n",
       "      <td>0.001384</td>\n",
       "      <td>0.000951</td>\n",
       "      <td>0.057471</td>\n",
       "      <td>0.014049</td>\n",
       "      <td>0.826309</td>\n",
       "      <td>0.102171</td>\n",
       "      <td>0.035378</td>\n",
       "      <td>0.003979</td>\n",
       "      <td>0.938587</td>\n",
       "      <td>0.022057</td>\n",
       "    </tr>\n",
       "    <tr>\n",
       "      <th>2</th>\n",
       "      <td>1408025</td>\n",
       "      <td>764584</td>\n",
       "      <td>NaN</td>\n",
       "      <td>NaN</td>\n",
       "      <td>NaN</td>\n",
       "      <td>82</td>\n",
       "      <td>0</td>\n",
       "      <td>3.0</td>\n",
       "      <td>1.0</td>\n",
       "      <td>1.0</td>\n",
       "      <td>...</td>\n",
       "      <td>0.027458</td>\n",
       "      <td>0.085781</td>\n",
       "      <td>0.232804</td>\n",
       "      <td>0.037037</td>\n",
       "      <td>0.221164</td>\n",
       "      <td>0.508995</td>\n",
       "      <td>0.255428</td>\n",
       "      <td>0.018838</td>\n",
       "      <td>0.628991</td>\n",
       "      <td>0.096743</td>\n",
       "    </tr>\n",
       "  </tbody>\n",
       "</table>\n",
       "<p>3 rows × 97 columns</p>\n",
       "</div>"
      ],
      "text/plain": [
       "             IDInm       NH  AntiN  AntiS  AntiM  age  gender  score  \\\n",
       "idMuestra                                                              \n",
       "0          1407962  3084327    NaN    NaN    NaN   88       1    NaN   \n",
       "1          1407963   587116    NaN    NaN    NaN   46       0    NaN   \n",
       "2          1408025   764584    NaN    NaN    NaN   82       0    3.0   \n",
       "\n",
       "           Line Timepoint  Timepoint  ...  TH27p28n  TH27n28n  CTLDRn38n  \\\n",
       "idMuestra                             ...                                  \n",
       "0                     NaN        0.0  ...  0.007514  0.037952   0.075808   \n",
       "1                     NaN        0.0  ...  0.001384  0.000951   0.057471   \n",
       "2                     1.0        1.0  ...  0.027458  0.085781   0.232804   \n",
       "\n",
       "           CTLDRp38n  CTLDRn38p  CTLDRp38p  THDRn38n  THDRp38n  THDRn38p  \\\n",
       "idMuestra                                                                  \n",
       "0           0.064660   0.638796   0.220736  0.046994  0.024834  0.879776   \n",
       "1           0.014049   0.826309   0.102171  0.035378  0.003979  0.938587   \n",
       "2           0.037037   0.221164   0.508995  0.255428  0.018838  0.628991   \n",
       "\n",
       "            THDRp38  \n",
       "idMuestra            \n",
       "0          0.048395  \n",
       "1          0.022057  \n",
       "2          0.096743  \n",
       "\n",
       "[3 rows x 97 columns]"
      ]
     },
     "execution_count": 2,
     "metadata": {},
     "output_type": "execute_result"
    }
   ],
   "source": [
    "df_data = pd.read_csv('data.csv', sep = \";\")\n",
    "df_data.index.name = 'idMuestra'\n",
    "df_data.head(3)"
   ]
  },
  {
   "cell_type": "markdown",
   "metadata": {},
   "source": [
    "Escojo las variables que quiero utilizar y las meto en otro dataframe"
   ]
  },
  {
   "cell_type": "code",
   "execution_count": 3,
   "metadata": {
    "scrolled": true
   },
   "outputs": [
    {
     "data": {
      "text/html": [
       "<div>\n",
       "<style scoped>\n",
       "    .dataframe tbody tr th:only-of-type {\n",
       "        vertical-align: middle;\n",
       "    }\n",
       "\n",
       "    .dataframe tbody tr th {\n",
       "        vertical-align: top;\n",
       "    }\n",
       "\n",
       "    .dataframe thead th {\n",
       "        text-align: right;\n",
       "    }\n",
       "</style>\n",
       "<table border=\"1\" class=\"dataframe\">\n",
       "  <thead>\n",
       "    <tr style=\"text-align: right;\">\n",
       "      <th></th>\n",
       "      <th>score</th>\n",
       "      <th>age</th>\n",
       "      <th>ferritina</th>\n",
       "      <th>DimD</th>\n",
       "      <th>LINF ABS</th>\n",
       "      <th>C4</th>\n",
       "      <th>MoNOclasicos</th>\n",
       "      <th>TH27n28n</th>\n",
       "    </tr>\n",
       "    <tr>\n",
       "      <th>idMuestra</th>\n",
       "      <th></th>\n",
       "      <th></th>\n",
       "      <th></th>\n",
       "      <th></th>\n",
       "      <th></th>\n",
       "      <th></th>\n",
       "      <th></th>\n",
       "      <th></th>\n",
       "    </tr>\n",
       "  </thead>\n",
       "  <tbody>\n",
       "    <tr>\n",
       "      <th>0</th>\n",
       "      <td>NaN</td>\n",
       "      <td>88</td>\n",
       "      <td>NaN</td>\n",
       "      <td>NaN</td>\n",
       "      <td>1000.0</td>\n",
       "      <td>45.68</td>\n",
       "      <td>0.098390</td>\n",
       "      <td>0.037952</td>\n",
       "    </tr>\n",
       "    <tr>\n",
       "      <th>1</th>\n",
       "      <td>NaN</td>\n",
       "      <td>46</td>\n",
       "      <td>NaN</td>\n",
       "      <td>14875.0</td>\n",
       "      <td>1791.0</td>\n",
       "      <td>36.57</td>\n",
       "      <td>0.090516</td>\n",
       "      <td>0.000951</td>\n",
       "    </tr>\n",
       "    <tr>\n",
       "      <th>2</th>\n",
       "      <td>3.0</td>\n",
       "      <td>82</td>\n",
       "      <td>328.0</td>\n",
       "      <td>276.0</td>\n",
       "      <td>1611.0</td>\n",
       "      <td>52.16</td>\n",
       "      <td>0.020647</td>\n",
       "      <td>0.085781</td>\n",
       "    </tr>\n",
       "  </tbody>\n",
       "</table>\n",
       "</div>"
      ],
      "text/plain": [
       "           score  age  ferritina     DimD  LINF ABS     C4  MoNOclasicos  \\\n",
       "idMuestra                                                                  \n",
       "0            NaN   88        NaN      NaN    1000.0  45.68      0.098390   \n",
       "1            NaN   46        NaN  14875.0    1791.0  36.57      0.090516   \n",
       "2            3.0   82      328.0    276.0    1611.0  52.16      0.020647   \n",
       "\n",
       "           TH27n28n  \n",
       "idMuestra            \n",
       "0          0.037952  \n",
       "1          0.000951  \n",
       "2          0.085781  "
      ]
     },
     "execution_count": 3,
     "metadata": {},
     "output_type": "execute_result"
    }
   ],
   "source": [
    "df_datos = df_data[['score','age','ferritina','DimD','LINF ABS','C4','MoNOclasicos','TH27n28n']]\n",
    "\n",
    "df_datos.head(3)"
   ]
  },
  {
   "cell_type": "markdown",
   "metadata": {},
   "source": [
    "Compruebo el número de nulos (NaN) de cada variable"
   ]
  },
  {
   "cell_type": "code",
   "execution_count": 4,
   "metadata": {},
   "outputs": [
    {
     "data": {
      "text/plain": [
       "score           261\n",
       "age               0\n",
       "ferritina       155\n",
       "DimD            147\n",
       "LINF ABS          4\n",
       "C4               63\n",
       "MoNOclasicos    102\n",
       "TH27n28n         70\n",
       "dtype: int64"
      ]
     },
     "execution_count": 4,
     "metadata": {},
     "output_type": "execute_result"
    }
   ],
   "source": [
    "df_datos.isnull().sum()"
   ]
  },
  {
   "cell_type": "code",
   "execution_count": 5,
   "metadata": {},
   "outputs": [
    {
     "data": {
      "text/plain": [
       "<matplotlib.axes._subplots.AxesSubplot at 0x14881032e80>"
      ]
     },
     "execution_count": 5,
     "metadata": {},
     "output_type": "execute_result"
    },
    {
     "data": {
      "image/png": "[encoded data removed]",
      "text/plain": [
       "<Figure size 432x288 with 1 Axes>"
      ]
     },
     "metadata": {
      "needs_background": "light"
     },
     "output_type": "display_data"
    }
   ],
   "source": [
    "# Identificamos los valores NaN visualmente\n",
    "sns.heatmap(df_datos.isnull(), cbar=False)"
   ]
  },
  {
   "cell_type": "markdown",
   "metadata": {},
   "source": [
    "Creo otro dataframe con el score sin valores nulos (NaN)"
   ]
  },
  {
   "cell_type": "code",
   "execution_count": 6,
   "metadata": {},
   "outputs": [
    {
     "data": {
      "text/html": [
       "<div>\n",
       "<style scoped>\n",
       "    .dataframe tbody tr th:only-of-type {\n",
       "        vertical-align: middle;\n",
       "    }\n",
       "\n",
       "    .dataframe tbody tr th {\n",
       "        vertical-align: top;\n",
       "    }\n",
       "\n",
       "    .dataframe thead th {\n",
       "        text-align: right;\n",
       "    }\n",
       "</style>\n",
       "<table border=\"1\" class=\"dataframe\">\n",
       "  <thead>\n",
       "    <tr style=\"text-align: right;\">\n",
       "      <th></th>\n",
       "      <th>score</th>\n",
       "      <th>age</th>\n",
       "      <th>ferritina</th>\n",
       "      <th>DimD</th>\n",
       "      <th>LINF ABS</th>\n",
       "      <th>C4</th>\n",
       "      <th>MoNOclasicos</th>\n",
       "      <th>TH27n28n</th>\n",
       "    </tr>\n",
       "    <tr>\n",
       "      <th>idMuestra</th>\n",
       "      <th></th>\n",
       "      <th></th>\n",
       "      <th></th>\n",
       "      <th></th>\n",
       "      <th></th>\n",
       "      <th></th>\n",
       "      <th></th>\n",
       "      <th></th>\n",
       "    </tr>\n",
       "  </thead>\n",
       "  <tbody>\n",
       "    <tr>\n",
       "      <th>2</th>\n",
       "      <td>3.0</td>\n",
       "      <td>82</td>\n",
       "      <td>328.0</td>\n",
       "      <td>276.0</td>\n",
       "      <td>1611.0</td>\n",
       "      <td>52.16</td>\n",
       "      <td>0.020647</td>\n",
       "      <td>0.085781</td>\n",
       "    </tr>\n",
       "    <tr>\n",
       "      <th>3</th>\n",
       "      <td>4.0</td>\n",
       "      <td>72</td>\n",
       "      <td>833.0</td>\n",
       "      <td>4654.0</td>\n",
       "      <td>687.0</td>\n",
       "      <td>15.56</td>\n",
       "      <td>0.046393</td>\n",
       "      <td>0.134451</td>\n",
       "    </tr>\n",
       "    <tr>\n",
       "      <th>4</th>\n",
       "      <td>1.0</td>\n",
       "      <td>51</td>\n",
       "      <td>1261.0</td>\n",
       "      <td>511.0</td>\n",
       "      <td>803.0</td>\n",
       "      <td>42.02</td>\n",
       "      <td>0.039211</td>\n",
       "      <td>0.001869</td>\n",
       "    </tr>\n",
       "    <tr>\n",
       "      <th>5</th>\n",
       "      <td>1.0</td>\n",
       "      <td>63</td>\n",
       "      <td>704.0</td>\n",
       "      <td>392.0</td>\n",
       "      <td>1131.0</td>\n",
       "      <td>39.76</td>\n",
       "      <td>0.039648</td>\n",
       "      <td>0.016114</td>\n",
       "    </tr>\n",
       "    <tr>\n",
       "      <th>6</th>\n",
       "      <td>1.0</td>\n",
       "      <td>54</td>\n",
       "      <td>452.0</td>\n",
       "      <td>790.0</td>\n",
       "      <td>1652.0</td>\n",
       "      <td>31.94</td>\n",
       "      <td>0.114563</td>\n",
       "      <td>0.008209</td>\n",
       "    </tr>\n",
       "    <tr>\n",
       "      <th>...</th>\n",
       "      <td>...</td>\n",
       "      <td>...</td>\n",
       "      <td>...</td>\n",
       "      <td>...</td>\n",
       "      <td>...</td>\n",
       "      <td>...</td>\n",
       "      <td>...</td>\n",
       "      <td>...</td>\n",
       "    </tr>\n",
       "    <tr>\n",
       "      <th>320</th>\n",
       "      <td>4.0</td>\n",
       "      <td>75</td>\n",
       "      <td>1577.0</td>\n",
       "      <td>702.0</td>\n",
       "      <td>2117.0</td>\n",
       "      <td>50.78</td>\n",
       "      <td>NaN</td>\n",
       "      <td>NaN</td>\n",
       "    </tr>\n",
       "    <tr>\n",
       "      <th>321</th>\n",
       "      <td>2.0</td>\n",
       "      <td>70</td>\n",
       "      <td>1518.0</td>\n",
       "      <td>1841.0</td>\n",
       "      <td>1636.0</td>\n",
       "      <td>43.01</td>\n",
       "      <td>NaN</td>\n",
       "      <td>NaN</td>\n",
       "    </tr>\n",
       "    <tr>\n",
       "      <th>322</th>\n",
       "      <td>5.0</td>\n",
       "      <td>88</td>\n",
       "      <td>372.0</td>\n",
       "      <td>780.0</td>\n",
       "      <td>288.0</td>\n",
       "      <td>42.53</td>\n",
       "      <td>NaN</td>\n",
       "      <td>NaN</td>\n",
       "    </tr>\n",
       "    <tr>\n",
       "      <th>323</th>\n",
       "      <td>4.0</td>\n",
       "      <td>72</td>\n",
       "      <td>2013.0</td>\n",
       "      <td>1886.0</td>\n",
       "      <td>190.0</td>\n",
       "      <td>33.09</td>\n",
       "      <td>NaN</td>\n",
       "      <td>NaN</td>\n",
       "    </tr>\n",
       "    <tr>\n",
       "      <th>326</th>\n",
       "      <td>2.0</td>\n",
       "      <td>69</td>\n",
       "      <td>1844.0</td>\n",
       "      <td>705.0</td>\n",
       "      <td>351.0</td>\n",
       "      <td>35.63</td>\n",
       "      <td>NaN</td>\n",
       "      <td>NaN</td>\n",
       "    </tr>\n",
       "  </tbody>\n",
       "</table>\n",
       "<p>158 rows × 8 columns</p>\n",
       "</div>"
      ],
      "text/plain": [
       "           score  age  ferritina    DimD  LINF ABS     C4  MoNOclasicos  \\\n",
       "idMuestra                                                                 \n",
       "2            3.0   82      328.0   276.0    1611.0  52.16      0.020647   \n",
       "3            4.0   72      833.0  4654.0     687.0  15.56      0.046393   \n",
       "4            1.0   51     1261.0   511.0     803.0  42.02      0.039211   \n",
       "5            1.0   63      704.0   392.0    1131.0  39.76      0.039648   \n",
       "6            1.0   54      452.0   790.0    1652.0  31.94      0.114563   \n",
       "...          ...  ...        ...     ...       ...    ...           ...   \n",
       "320          4.0   75     1577.0   702.0    2117.0  50.78           NaN   \n",
       "321          2.0   70     1518.0  1841.0    1636.0  43.01           NaN   \n",
       "322          5.0   88      372.0   780.0     288.0  42.53           NaN   \n",
       "323          4.0   72     2013.0  1886.0     190.0  33.09           NaN   \n",
       "326          2.0   69     1844.0   705.0     351.0  35.63           NaN   \n",
       "\n",
       "           TH27n28n  \n",
       "idMuestra            \n",
       "2          0.085781  \n",
       "3          0.134451  \n",
       "4          0.001869  \n",
       "5          0.016114  \n",
       "6          0.008209  \n",
       "...             ...  \n",
       "320             NaN  \n",
       "321             NaN  \n",
       "322             NaN  \n",
       "323             NaN  \n",
       "326             NaN  \n",
       "\n",
       "[158 rows x 8 columns]"
      ]
     },
     "execution_count": 6,
     "metadata": {},
     "output_type": "execute_result"
    }
   ],
   "source": [
    "df_sinNaN = df_datos.copy()\n",
    "df_sinNaN.dropna(subset = ['score'], inplace = True)\n",
    "df_sinNaN.head(200)"
   ]
  },
  {
   "cell_type": "markdown",
   "metadata": {},
   "source": [
    "Vamos a ver si nos quedó algún valor nulo:"
   ]
  },
  {
   "cell_type": "code",
   "execution_count": 7,
   "metadata": {},
   "outputs": [
    {
     "data": {
      "text/plain": [
       "score            0\n",
       "age              0\n",
       "ferritina        7\n",
       "DimD             6\n",
       "LINF ABS         1\n",
       "C4               3\n",
       "MoNOclasicos    31\n",
       "TH27n28n        18\n",
       "dtype: int64"
      ]
     },
     "execution_count": 7,
     "metadata": {},
     "output_type": "execute_result"
    }
   ],
   "source": [
    "df_sinNaN.isnull().sum()"
   ]
  },
  {
   "cell_type": "markdown",
   "metadata": {},
   "source": [
    "Convierto la multivariable score en 2 variables: 0 Leve y 1 Moderado/Severo"
   ]
  },
  {
   "cell_type": "code",
   "execution_count": 8,
   "metadata": {
    "scrolled": true
   },
   "outputs": [
    {
     "name": "stdout",
     "output_type": "stream",
     "text": [
      "Número de observaciones por clase\n",
      "0    120\n",
      "1     38\n",
      "Name: score, dtype: int64\n",
      "\n",
      "Porcentaje de observaciones por clase\n",
      "0    75.949367\n",
      "1    24.050633\n",
      "Name: score, dtype: float64\n"
     ]
    }
   ],
   "source": [
    "df_sinNaN['score'] = np.where(df_sinNaN['score'] > 2, 1, 0)\n",
    "\n",
    "print(\"Número de observaciones por clase\")\n",
    "print(df_sinNaN['score'].value_counts())\n",
    "print(\"\")\n",
    "\n",
    "print(\"Porcentaje de observaciones por clase\")\n",
    "print(100 * df_sinNaN['score'].value_counts(normalize=True))"
   ]
  },
  {
   "cell_type": "markdown",
   "metadata": {},
   "source": [
    "Creo los dataframes de entrenamiento (X) y de test (y)"
   ]
  },
  {
   "cell_type": "code",
   "execution_count": 9,
   "metadata": {},
   "outputs": [],
   "source": [
    "X = df_sinNaN.drop(columns = 'score').to_numpy()\n",
    "y = df_sinNaN['score'].to_numpy()"
   ]
  },
  {
   "cell_type": "code",
   "execution_count": 10,
   "metadata": {},
   "outputs": [],
   "source": [
    "def evalua(X, y, clasificador, repeticiones, folds):\n",
    "    '''\n",
    "    Función de ejemplo que evalua accuracy_score siguiendo un esquema\n",
    "    de repeticiones y número de folds indicado.\n",
    "    \n",
    "    Podría modificarse para guardar predicciones o para evaluar otras medidas\n",
    "    \n",
    "    '''\n",
    "    \n",
    "    # se hacen 'repeticiones' validaciones cruzadas\n",
    "    accs = []\n",
    "    \n",
    "    # se hace el proceso 'repeticiones' veces\n",
    "    for i in range(repeticiones):\n",
    "        \n",
    "        # se usa StratifiedKFold varias veces, cada vez con una semilla distinta\n",
    "        skf = StratifiedKFold(n_splits = folds, random_state = i, shuffle = True)\n",
    "        \n",
    "        \n",
    "        for train_index, test_index in skf.split(X, y):\n",
    "            \n",
    "            # se crea multiples versiones de los conjuntos de entrenamiento y test\n",
    "            X_train, X_test = X[train_index], X[test_index]\n",
    "            y_train, y_test = y[train_index], y[test_index]\n",
    "            \n",
    "            # entrenamos y evaluamos el clasificador\n",
    "            clasificador.fit(X_train, y_train)\n",
    "            y_pred = clasificador.predict(X_test)\n",
    "            ### podría guardar las predicciones para más adelante si quisiera\n",
    "            \n",
    "            acc = accuracy_score(y_test, y_pred)\n",
    "            accs.append(acc)\n",
    "            \n",
    "    # devolvemos la media de las repeticiones y folds\n",
    "    return np.array(accs).mean() * 100"
   ]
  },
  {
   "cell_type": "markdown",
   "metadata": {},
   "source": [
    "Creo un pipeline para poder imputar a los valores NaN la media"
   ]
  },
  {
   "cell_type": "code",
   "execution_count": 11,
   "metadata": {},
   "outputs": [],
   "source": [
    "pipe1 = Pipeline([('ImputaMedia', SimpleImputer(strategy = \"mean\")), \n",
    "                 ('Logistic', LogisticRegression(max_iter = 500))])"
   ]
  },
  {
   "cell_type": "code",
   "execution_count": 12,
   "metadata": {},
   "outputs": [
    {
     "name": "stdout",
     "output_type": "stream",
     "text": [
      "73.8 %\n",
      "75.2 %\n"
     ]
    }
   ],
   "source": [
    "print(round(evalua(X, y, pipe1, 5, 2), 2), '%')\n",
    "print(round(evalua(X, y, pipe1, 10, 10), 2), '%')"
   ]
  },
  {
   "cell_type": "markdown",
   "metadata": {},
   "source": [
    "Creo un pipeline para poder imputar a los valores NaN con vecinos más cercanos"
   ]
  },
  {
   "cell_type": "code",
   "execution_count": 13,
   "metadata": {},
   "outputs": [],
   "source": [
    "pipe2 = Pipeline([('ImputaKNN', KNNImputer(n_neighbors = 5)), \n",
    "                 ('Logistic', LogisticRegression(max_iter = 500))])"
   ]
  },
  {
   "cell_type": "code",
   "execution_count": 14,
   "metadata": {},
   "outputs": [
    {
     "name": "stdout",
     "output_type": "stream",
     "text": [
      "73.92 %\n",
      "75.58 %\n"
     ]
    }
   ],
   "source": [
    "print(round(evalua(X, y, pipe2, 5, 2), 2), '%')\n",
    "print(round(evalua(X, y, pipe2, 10, 10), 2), '%')"
   ]
  }
 ],
 "metadata": {
  "kernelspec": {
   "display_name": "Python 3 (ipykernel)",
   "language": "python",
   "name": "python3"
  },
  "language_info": {
   "codemirror_mode": {
    "name": "ipython",
    "version": 3
   },
   "file_extension": ".py",
   "mimetype": "text/x-python",
   "name": "python",
   "nbconvert_exporter": "python",
   "pygments_lexer": "ipython3",
   "version": "3.9.7"
  }
 },
 "nbformat": 4,
 "nbformat_minor": 4
}
