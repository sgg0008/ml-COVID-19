{
 "cells": [
  {
   "cell_type": "markdown",
   "metadata": {},
   "source": [
    "# Réplica del trabajo \"Innate and Adaptive Immune Assessment at Admission to Predict Clinical Outcome in COVID-19 Patients\" en python"
   ]
  },
  {
   "cell_type": "markdown",
   "metadata": {},
   "source": [
    "En este estudio se evaluó la respuesta inmunitaria en pacientes con infección activa por SARS-CoV-2. Se estudiaron un total de 155 pacientes al ingreso en el Hospital Universitario Marqués de Valdecilla y se categorizaron según si requirieron de oxigenoterapia (severo) o no (leve).\n",
    "    \n",
    "El modelo predictivo incluyó la edada, ferritina, D-dimero, Número de linfocitos, C4, CD8+CD27-CD28-, y los monocitos no clásicos en un análisis de regresión logística."
   ]
  },
  {
   "cell_type": "code",
   "execution_count": 1,
   "metadata": {},
   "outputs": [],
   "source": [
    "# Tratamiento de datos\n",
    "# ==============================================================================\n",
    "import pandas as pd\n",
    "import numpy as np\n",
    "\n",
    "# Gráficos\n",
    "# ==============================================================================\n",
    "import seaborn as sns\n",
    "\n",
    "# Preprocesado y modelado\n",
    "# ==============================================================================\n",
    "from sklearn.model_selection import StratifiedKFold\n",
    "from sklearn.linear_model import LogisticRegression\n",
    "from sklearn.pipeline import Pipeline\n",
    "from sklearn.impute import SimpleImputer\n",
    "from sklearn.impute import KNNImputer\n",
    "from sklearn.model_selection import cross_val_predict\n",
    "from sklearn import metrics\n",
    "from sklearn.metrics import accuracy_score, roc_auc_score"
   ]
  },
  {
   "cell_type": "markdown",
   "metadata": {},
   "source": [
    "### Importación de datos"
   ]
  },
  {
   "cell_type": "markdown",
   "metadata": {},
   "source": [
    "Importo en un dataframe la cohorte de datos"
   ]
  },
  {
   "cell_type": "code",
   "execution_count": 2,
   "metadata": {
    "scrolled": true
   },
   "outputs": [
    {
     "data": {
      "text/html": [
       "<div>\n",
       "<style scoped>\n",
       "    .dataframe tbody tr th:only-of-type {\n",
       "        vertical-align: middle;\n",
       "    }\n",
       "\n",
       "    .dataframe tbody tr th {\n",
       "        vertical-align: top;\n",
       "    }\n",
       "\n",
       "    .dataframe thead th {\n",
       "        text-align: right;\n",
       "    }\n",
       "</style>\n",
       "<table border=\"1\" class=\"dataframe\">\n",
       "  <thead>\n",
       "    <tr style=\"text-align: right;\">\n",
       "      <th></th>\n",
       "      <th>IDInm</th>\n",
       "      <th>NH</th>\n",
       "      <th>AntiN</th>\n",
       "      <th>AntiS</th>\n",
       "      <th>AntiM</th>\n",
       "      <th>age</th>\n",
       "      <th>gender</th>\n",
       "      <th>score</th>\n",
       "      <th>Line Timepoint</th>\n",
       "      <th>Timepoint</th>\n",
       "      <th>...</th>\n",
       "      <th>TH27p28n</th>\n",
       "      <th>TH27n28n</th>\n",
       "      <th>CTLDRn38n</th>\n",
       "      <th>CTLDRp38n</th>\n",
       "      <th>CTLDRn38p</th>\n",
       "      <th>CTLDRp38p</th>\n",
       "      <th>THDRn38n</th>\n",
       "      <th>THDRp38n</th>\n",
       "      <th>THDRn38p</th>\n",
       "      <th>THDRp38</th>\n",
       "    </tr>\n",
       "    <tr>\n",
       "      <th>idMuestra</th>\n",
       "      <th></th>\n",
       "      <th></th>\n",
       "      <th></th>\n",
       "      <th></th>\n",
       "      <th></th>\n",
       "      <th></th>\n",
       "      <th></th>\n",
       "      <th></th>\n",
       "      <th></th>\n",
       "      <th></th>\n",
       "      <th></th>\n",
       "      <th></th>\n",
       "      <th></th>\n",
       "      <th></th>\n",
       "      <th></th>\n",
       "      <th></th>\n",
       "      <th></th>\n",
       "      <th></th>\n",
       "      <th></th>\n",
       "      <th></th>\n",
       "      <th></th>\n",
       "    </tr>\n",
       "  </thead>\n",
       "  <tbody>\n",
       "    <tr>\n",
       "      <th>0</th>\n",
       "      <td>1407962</td>\n",
       "      <td>3084327</td>\n",
       "      <td>NaN</td>\n",
       "      <td>NaN</td>\n",
       "      <td>NaN</td>\n",
       "      <td>88</td>\n",
       "      <td>1</td>\n",
       "      <td>NaN</td>\n",
       "      <td>NaN</td>\n",
       "      <td>0.0</td>\n",
       "      <td>...</td>\n",
       "      <td>0.007514</td>\n",
       "      <td>0.037952</td>\n",
       "      <td>0.075808</td>\n",
       "      <td>0.064660</td>\n",
       "      <td>0.638796</td>\n",
       "      <td>0.220736</td>\n",
       "      <td>0.046994</td>\n",
       "      <td>0.024834</td>\n",
       "      <td>0.879776</td>\n",
       "      <td>0.048395</td>\n",
       "    </tr>\n",
       "    <tr>\n",
       "      <th>1</th>\n",
       "      <td>1407963</td>\n",
       "      <td>587116</td>\n",
       "      <td>NaN</td>\n",
       "      <td>NaN</td>\n",
       "      <td>NaN</td>\n",
       "      <td>46</td>\n",
       "      <td>0</td>\n",
       "      <td>NaN</td>\n",
       "      <td>NaN</td>\n",
       "      <td>0.0</td>\n",
       "      <td>...</td>\n",
       "      <td>0.001384</td>\n",
       "      <td>0.000951</td>\n",
       "      <td>0.057471</td>\n",
       "      <td>0.014049</td>\n",
       "      <td>0.826309</td>\n",
       "      <td>0.102171</td>\n",
       "      <td>0.035378</td>\n",
       "      <td>0.003979</td>\n",
       "      <td>0.938587</td>\n",
       "      <td>0.022057</td>\n",
       "    </tr>\n",
       "    <tr>\n",
       "      <th>2</th>\n",
       "      <td>1408025</td>\n",
       "      <td>764584</td>\n",
       "      <td>NaN</td>\n",
       "      <td>NaN</td>\n",
       "      <td>NaN</td>\n",
       "      <td>82</td>\n",
       "      <td>0</td>\n",
       "      <td>3.0</td>\n",
       "      <td>1.0</td>\n",
       "      <td>1.0</td>\n",
       "      <td>...</td>\n",
       "      <td>0.027458</td>\n",
       "      <td>0.085781</td>\n",
       "      <td>0.232804</td>\n",
       "      <td>0.037037</td>\n",
       "      <td>0.221164</td>\n",
       "      <td>0.508995</td>\n",
       "      <td>0.255428</td>\n",
       "      <td>0.018838</td>\n",
       "      <td>0.628991</td>\n",
       "      <td>0.096743</td>\n",
       "    </tr>\n",
       "  </tbody>\n",
       "</table>\n",
       "<p>3 rows × 97 columns</p>\n",
       "</div>"
      ],
      "text/plain": [
       "             IDInm       NH  AntiN  AntiS  AntiM  age  gender  score  \\\n",
       "idMuestra                                                              \n",
       "0          1407962  3084327    NaN    NaN    NaN   88       1    NaN   \n",
       "1          1407963   587116    NaN    NaN    NaN   46       0    NaN   \n",
       "2          1408025   764584    NaN    NaN    NaN   82       0    3.0   \n",
       "\n",
       "           Line Timepoint  Timepoint  ...  TH27p28n  TH27n28n  CTLDRn38n  \\\n",
       "idMuestra                             ...                                  \n",
       "0                     NaN        0.0  ...  0.007514  0.037952   0.075808   \n",
       "1                     NaN        0.0  ...  0.001384  0.000951   0.057471   \n",
       "2                     1.0        1.0  ...  0.027458  0.085781   0.232804   \n",
       "\n",
       "           CTLDRp38n  CTLDRn38p  CTLDRp38p  THDRn38n  THDRp38n  THDRn38p  \\\n",
       "idMuestra                                                                  \n",
       "0           0.064660   0.638796   0.220736  0.046994  0.024834  0.879776   \n",
       "1           0.014049   0.826309   0.102171  0.035378  0.003979  0.938587   \n",
       "2           0.037037   0.221164   0.508995  0.255428  0.018838  0.628991   \n",
       "\n",
       "            THDRp38  \n",
       "idMuestra            \n",
       "0          0.048395  \n",
       "1          0.022057  \n",
       "2          0.096743  \n",
       "\n",
       "[3 rows x 97 columns]"
      ]
     },
     "execution_count": 2,
     "metadata": {},
     "output_type": "execute_result"
    }
   ],
   "source": [
    "df_data = pd.read_csv('./data/data.csv', sep = \";\")\n",
    "df_data.index.name = 'idMuestra'\n",
    "df_data.head(3)"
   ]
  },
  {
   "cell_type": "markdown",
   "metadata": {},
   "source": [
    "### Preparación de Datos"
   ]
  },
  {
   "cell_type": "markdown",
   "metadata": {},
   "source": [
    "En el trabajo que vamos a replicar, se escogen los datos entre Abril y Octubre de 2020 y que hayan dado positivo en prueba PCR. Además descartamos los que no tienen score."
   ]
  },
  {
   "cell_type": "code",
   "execution_count": 3,
   "metadata": {},
   "outputs": [],
   "source": [
    "df_datos = df_data.copy()\n",
    "\n",
    "# Descartamos los datos nulos o vacíos en el campo \"score\"\n",
    "df_datos = df_datos[~df_datos[df_datos.columns[7]].isnull()]\n",
    "\n",
    "# Descartamos los datos nulos o vacíos en el campo \"fechaPCRpos\" o los que son negativos \"NEG\"\n",
    "df_datos = df_datos[~df_datos[df_datos.columns[19]].isnull()]\n",
    "df_datos = df_datos[df_datos['fechaPCRpos'] != 'NEG']\n",
    "\n",
    "# Escogemos los datos entre Abril y Octubre 2020\n",
    "df_datos['fechaPCRpos'] = df_datos['fechaPCRpos'].astype('int64')\n",
    "fechas = pd.to_datetime(df_datos['fechaPCRpos'], unit='D', origin='1899-12-30')\n",
    "df_datos['FechaPCR'] = fechas\n",
    "df_datos = df_datos[df_datos['FechaPCR'] < '2020-11-01']"
   ]
  },
  {
   "cell_type": "markdown",
   "metadata": {},
   "source": [
    "Escojo las variables que quiero utilizar y las meto en otro dataframe"
   ]
  },
  {
   "cell_type": "code",
   "execution_count": 4,
   "metadata": {
    "scrolled": true
   },
   "outputs": [
    {
     "data": {
      "text/plain": [
       "(155, 8)"
      ]
     },
     "execution_count": 4,
     "metadata": {},
     "output_type": "execute_result"
    }
   ],
   "source": [
    "df_datos = df_datos[['score','age','ferritina','DimD','LINF ABS','C4','MoNOclasicos','TH27n28n']]\n",
    "df_datos.shape"
   ]
  },
  {
   "cell_type": "markdown",
   "metadata": {},
   "source": [
    "Compruebo el número de nulos (NaN) de cada variable"
   ]
  },
  {
   "cell_type": "code",
   "execution_count": 5,
   "metadata": {},
   "outputs": [
    {
     "data": {
      "text/plain": [
       "score            0\n",
       "age              0\n",
       "ferritina        7\n",
       "DimD             6\n",
       "LINF ABS         1\n",
       "C4               3\n",
       "MoNOclasicos    29\n",
       "TH27n28n        16\n",
       "dtype: int64"
      ]
     },
     "execution_count": 5,
     "metadata": {},
     "output_type": "execute_result"
    }
   ],
   "source": [
    "df_datos.isnull().sum()"
   ]
  },
  {
   "cell_type": "code",
   "execution_count": 6,
   "metadata": {},
   "outputs": [
    {
     "data": {
      "text/plain": [
       "<Axes: ylabel='idMuestra'>"
      ]
     },
     "execution_count": 6,
     "metadata": {},
     "output_type": "execute_result"
    },
    {
     "data": {
      "image/png": "[encoded data removed]",
      "text/plain": [
       "<Figure size 640x480 with 1 Axes>"
      ]
     },
     "metadata": {},
     "output_type": "display_data"
    }
   ],
   "source": [
    "# Identificamos los valores NaN visualmente\n",
    "sns.heatmap(df_datos.isnull(), cbar=False)"
   ]
  },
  {
   "cell_type": "markdown",
   "metadata": {},
   "source": [
    "Convierto la multivariable score en 2 variables: 0 Leve y 1 Moderado/Severo"
   ]
  },
  {
   "cell_type": "code",
   "execution_count": 7,
   "metadata": {
    "scrolled": true
   },
   "outputs": [
    {
     "name": "stdout",
     "output_type": "stream",
     "text": [
      "Número de observaciones por clase\n",
      "score\n",
      "1    82\n",
      "0    73\n",
      "Name: count, dtype: int64\n",
      "\n",
      "Porcentaje de observaciones por clase\n",
      "score\n",
      "1    52.903226\n",
      "0    47.096774\n",
      "Name: proportion, dtype: float64\n"
     ]
    }
   ],
   "source": [
    "df_datos['score'] = np.where(df_datos['score'] > 1, 1, 0)\n",
    "\n",
    "print(\"Número de observaciones por clase\")\n",
    "print(df_datos['score'].value_counts())\n",
    "print(\"\")\n",
    "\n",
    "print(\"Porcentaje de observaciones por clase\")\n",
    "print(100 * df_datos['score'].value_counts(normalize=True))"
   ]
  },
  {
   "cell_type": "markdown",
   "metadata": {},
   "source": [
    "Estos valores concuerdan con los utilizados en el trabajo original."
   ]
  },
  {
   "cell_type": "markdown",
   "metadata": {},
   "source": [
    "### Clasificación de datos"
   ]
  },
  {
   "cell_type": "markdown",
   "metadata": {},
   "source": [
    "Creo los dataframes de entrenamiento (X) y de test (y)"
   ]
  },
  {
   "cell_type": "code",
   "execution_count": 8,
   "metadata": {},
   "outputs": [],
   "source": [
    "X = df_datos.drop(columns = 'score').to_numpy()\n",
    "y = df_datos['score'].to_numpy()"
   ]
  },
  {
   "cell_type": "code",
   "execution_count": 9,
   "metadata": {},
   "outputs": [],
   "source": [
    "def evalua(X, y, clasificador, repeticiones, folds):\n",
    "    '''\n",
    "    Función de ejemplo que evalua roc_auc_score siguiendo un esquema\n",
    "    de repeticiones y número de folds indicado.\n",
    "    \n",
    "    '''\n",
    "    \n",
    "    # se hacen 'repeticiones' validaciones cruzadas\n",
    "    rocs = []\n",
    "    \n",
    "    # se hace el proceso 'repeticiones' veces\n",
    "    for i in range(repeticiones):\n",
    "        \n",
    "        # se usa StratifiedKFold varias veces, cada vez con una semilla distinta\n",
    "        skf = StratifiedKFold(n_splits = folds, random_state = i, shuffle = True)\n",
    "        \n",
    "        \n",
    "        for train_index, test_index in skf.split(X, y):\n",
    "            \n",
    "            # se crean múltiples versiones de los conjuntos de entrenamiento y test\n",
    "            X_train, X_test = X[train_index], X[test_index]\n",
    "            y_train, y_test = y[train_index], y[test_index]\n",
    "            \n",
    "            # entrenamos y evaluamos el clasificador\n",
    "            clasificador.fit(X_train, y_train)\n",
    "            y_pred = clasificador.predict_proba(X_test)\n",
    "            ### podría guardar las predicciones para más adelante si quisiera\n",
    "            \n",
    "            roc = roc_auc_score(y_test, y_pred[:,1])\n",
    "            rocs.append(roc)\n",
    "            \n",
    "    # devolvemos la media de las repeticiones y folds\n",
    "    return np.array(rocs).mean() * 100"
   ]
  },
  {
   "cell_type": "markdown",
   "metadata": {},
   "source": [
    "### Regresión Logística con imputación"
   ]
  },
  {
   "cell_type": "markdown",
   "metadata": {},
   "source": [
    "Creo varios pipelines para poder imputar a los valores NaN"
   ]
  },
  {
   "cell_type": "markdown",
   "metadata": {},
   "source": [
    "Media"
   ]
  },
  {
   "cell_type": "code",
   "execution_count": 10,
   "metadata": {},
   "outputs": [
    {
     "name": "stdout",
     "output_type": "stream",
     "text": [
      "76.36 %\n",
      "76.27 %\n"
     ]
    }
   ],
   "source": [
    "pipe1 = Pipeline([('ImputaMedia', SimpleImputer(strategy = \"mean\")), \n",
    "                 ('Logistic', LogisticRegression(solver = 'newton-cg', max_iter = 500))])\n",
    "print(round(evalua(X, y, pipe1, 5, 3), 2), '%')\n",
    "print(round(evalua(X, y, pipe1, 10, 10), 2), '%')"
   ]
  },
  {
   "cell_type": "markdown",
   "metadata": {},
   "source": [
    "Mediana"
   ]
  },
  {
   "cell_type": "code",
   "execution_count": 11,
   "metadata": {},
   "outputs": [
    {
     "name": "stdout",
     "output_type": "stream",
     "text": [
      "76.09 %\n",
      "75.94 %\n"
     ]
    }
   ],
   "source": [
    "pipe2 = Pipeline([('ImputaMedia', SimpleImputer(strategy = \"median\")), \n",
    "                 ('Logistic', LogisticRegression(solver = 'newton-cg', max_iter = 500))])\n",
    "print(round(evalua(X, y, pipe2, 5, 3), 2), '%')\n",
    "print(round(evalua(X, y, pipe2, 10, 10), 2), '%')"
   ]
  },
  {
   "cell_type": "markdown",
   "metadata": {},
   "source": [
    "Vecinos más cercanos"
   ]
  },
  {
   "cell_type": "code",
   "execution_count": 12,
   "metadata": {},
   "outputs": [
    {
     "name": "stdout",
     "output_type": "stream",
     "text": [
      "76.31 %\n",
      "76.29 %\n"
     ]
    }
   ],
   "source": [
    "pipe4 = Pipeline([('ImputaKNN', KNNImputer(n_neighbors = 6)), \n",
    "                 ('Logistic', LogisticRegression(solver = 'newton-cg', max_iter = 500))])\n",
    "print(round(evalua(X, y, pipe4, 5, 3), 2), '%')\n",
    "print(round(evalua(X, y, pipe4, 10, 10), 2), '%')"
   ]
  },
  {
   "cell_type": "markdown",
   "metadata": {
    "scrolled": true
   },
   "source": [
    "Finalmente, observamos que el mejor resultado se da con la imputación de la media con 5 repeticiones y 3 folds"
   ]
  },
  {
   "cell_type": "code",
   "execution_count": 13,
   "metadata": {},
   "outputs": [
    {
     "name": "stdout",
     "output_type": "stream",
     "text": [
      "El mejor resultado es: 76.36 %\n"
     ]
    }
   ],
   "source": [
    "print('El mejor resultado es:', round(evalua(X, y, pipe1, 5, 3), 2), '%')"
   ]
  }
 ],
 "metadata": {
  "kernelspec": {
   "display_name": "Python 3 (ipykernel)",
   "language": "python",
   "name": "python3"
  },
  "language_info": {
   "codemirror_mode": {
    "name": "ipython",
    "version": 3
   },
   "file_extension": ".py",
   "mimetype": "text/x-python",
   "name": "python",
   "nbconvert_exporter": "python",
   "pygments_lexer": "ipython3",
   "version": "3.11.4"
  }
 },
 "nbformat": 4,
 "nbformat_minor": 4
}
